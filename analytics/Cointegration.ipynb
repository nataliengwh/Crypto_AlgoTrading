{
 "cells": [
  {
   "cell_type": "code",
   "execution_count": 56,
   "id": "2ab26666",
   "metadata": {},
   "outputs": [],
   "source": [
    "import pandas as pd\n",
    "import numpy as np\n",
    "from datetime import datetime\n",
    "from statsmodels.tsa.stattools import coint"
   ]
  },
  {
   "cell_type": "code",
   "execution_count": 49,
   "id": "c350c5cb",
   "metadata": {
    "scrolled": true
   },
   "outputs": [
    {
     "name": "stdout",
     "output_type": "stream",
     "text": [
      "(261637, 1)\n",
      "(261637, 1)\n"
     ]
    }
   ],
   "source": [
    "btc_df = pd.read_csv(\"Dataset/BTCUSDT.csv\")\n",
    "btc_df['open_time'] = btc_df['open_time'].apply(lambda x: \n",
    "                                datetime.strptime(x,'%Y-%m-%d %H:%M:%S'))\n",
    "btc_df.set_index('open_time',inplace=True)\n",
    "btc_df = btc_df[['close']]\n",
    "print(btc_df.shape)\n",
    "eth_df = pd.read_csv(\"Dataset/ETHUSDT.csv\")\n",
    "eth_df['open_time'] = eth_df['open_time'].apply(lambda x: \n",
    "                                datetime.strptime(x,'%Y-%m-%d %H:%M:%S'))\n",
    "eth_df.set_index('open_time',inplace=True)\n",
    "eth_df = eth_df[['close']]\n",
    "print(eth_df.shape)"
   ]
  },
  {
   "cell_type": "code",
   "execution_count": 57,
   "id": "3f5539aa",
   "metadata": {},
   "outputs": [],
   "source": [
    "BTC = btc_df.resample(\"1D\").last()\n",
    "ETH = eth_df.resample(\"1D\").last()"
   ]
  },
  {
   "cell_type": "code",
   "execution_count": 58,
   "id": "e30fde8c",
   "metadata": {},
   "outputs": [
    {
     "data": {
      "text/plain": [
       "(-2.2004388379515047,\n",
       " 0.4241372231857231,\n",
       " array([-3.90848897, -3.34283787, -3.04910371]))"
      ]
     },
     "execution_count": 58,
     "metadata": {},
     "output_type": "execute_result"
    }
   ],
   "source": [
    "coint(BTC,ETH)"
   ]
  },
  {
   "cell_type": "code",
   "execution_count": 64,
   "id": "eecb65c3",
   "metadata": {},
   "outputs": [
    {
     "name": "stdout",
     "output_type": "stream",
     "text": [
      "                            OLS Regression Results                            \n",
      "==============================================================================\n",
      "Dep. Variable:                  close   R-squared:                       0.814\n",
      "Model:                            OLS   Adj. R-squared:                  0.814\n",
      "Method:                 Least Squares   F-statistic:                     3987.\n",
      "Date:                Fri, 29 Jul 2022   Prob (F-statistic):               0.00\n",
      "Time:                        22:00:18   Log-Likelihood:                -9481.4\n",
      "No. Observations:                 913   AIC:                         1.897e+04\n",
      "Df Residuals:                     911   BIC:                         1.898e+04\n",
      "Df Model:                           1                                         \n",
      "Covariance Type:            nonrobust                                         \n",
      "==============================================================================\n",
      "                 coef    std err          t      P>|t|      [0.025      0.975]\n",
      "------------------------------------------------------------------------------\n",
      "const       1.005e+04    417.633     24.074      0.000    9234.374    1.09e+04\n",
      "close         11.8503      0.188     63.146      0.000      11.482      12.219\n",
      "==============================================================================\n",
      "Omnibus:                      358.783   Durbin-Watson:                   0.014\n",
      "Prob(Omnibus):                  0.000   Jarque-Bera (JB):             1068.025\n",
      "Skew:                           2.027   Prob(JB):                    1.21e-232\n",
      "Kurtosis:                       6.412   Cond. No.                     3.58e+03\n",
      "==============================================================================\n",
      "\n",
      "Notes:\n",
      "[1] Standard Errors assume that the covariance matrix of the errors is correctly specified.\n",
      "[2] The condition number is large, 3.58e+03. This might indicate that there are\n",
      "strong multicollinearity or other numerical problems.\n"
     ]
    }
   ],
   "source": [
    "# Import the statsmodels module for regression and the adfuller function\n",
    "import statsmodels.api as sm\n",
    "from statsmodels.tsa.stattools import adfuller\n",
    "# Regress BTC on ETH\n",
    "ETH = sm.add_constant(ETH)\n",
    "result = sm.OLS(BTC,ETH).fit()\n",
    "print(result.summary())"
   ]
  },
  {
   "cell_type": "code",
   "execution_count": 73,
   "id": "fe58298f",
   "metadata": {},
   "outputs": [],
   "source": [
    "# Compute ADF\n",
    "b = result.params[1]\n",
    "spread = BTC['close'] - b*ETH['close']\n",
    "adf_stats = adfuller(spread)#,maxlag=1)\n",
    "# print(\"The p-value for the ADF test is \", adf_stats[1])"
   ]
  },
  {
   "cell_type": "code",
   "execution_count": 74,
   "id": "c82f3d3f",
   "metadata": {},
   "outputs": [
    {
     "data": {
      "text/plain": [
       "(-2.199354169208925,\n",
       " 0.20647993967721684,\n",
       " 11,\n",
       " 901,\n",
       " {'1%': -3.437628610719785,\n",
       "  '5%': -2.8647531504389767,\n",
       "  '10%': -2.5684808963896324},\n",
       " 14693.089561631645)"
      ]
     },
     "execution_count": 74,
     "metadata": {},
     "output_type": "execute_result"
    }
   ],
   "source": [
    "adf_stats"
   ]
  },
  {
   "cell_type": "code",
   "execution_count": null,
   "id": "c527afed",
   "metadata": {},
   "outputs": [],
   "source": []
  }
 ],
 "metadata": {
  "kernelspec": {
   "display_name": "trading-bot",
   "language": "python",
   "name": "trading-bot"
  },
  "language_info": {
   "codemirror_mode": {
    "name": "ipython",
    "version": 3
   },
   "file_extension": ".py",
   "mimetype": "text/x-python",
   "name": "python",
   "nbconvert_exporter": "python",
   "pygments_lexer": "ipython3",
   "version": "3.8.0"
  }
 },
 "nbformat": 4,
 "nbformat_minor": 5
}
