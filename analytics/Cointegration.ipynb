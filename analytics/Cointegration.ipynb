{
 "cells": [
  {
   "cell_type": "code",
   "execution_count": 18,
   "id": "2ab26666",
   "metadata": {},
   "outputs": [],
   "source": [
    "import pandas as pd\n",
    "import numpy as np\n",
    "from datetime import datetime\n",
    "from statsmodels.tsa.stattools import coint\n",
    "import statsmodels.api as sm\n",
    "from statsmodels.tsa.stattools import adfuller"
   ]
  },
  {
   "cell_type": "markdown",
   "id": "c9612340",
   "metadata": {},
   "source": [
    "coin list: BTC, ETH, SOL, UNI, APE, MANA"
   ]
  },
  {
   "cell_type": "code",
   "execution_count": 14,
   "id": "03bf9e1c",
   "metadata": {},
   "outputs": [],
   "source": [
    "def get_resampled_close(path: str,resample: str =\"1h\"):\n",
    "    df = pd.read_csv(path)\n",
    "    df['open_time'] = df['open_time'].apply(lambda x: \n",
    "                                    datetime.strptime(x,'%Y-%m-%d %H:%M:%S'))\n",
    "    df.set_index('open_time',inplace=True)\n",
    "    df = df[['close']]\n",
    "    df = df.resample(resample).last()\n",
    "    df.ffill(inplace=True)\n",
    "    return df"
   ]
  },
  {
   "cell_type": "code",
   "execution_count": 15,
   "id": "420f3d1d",
   "metadata": {},
   "outputs": [],
   "source": [
    "btc = get_resampled_close(\"../data/BTCUSDT.csv\")\n",
    "eth = get_resampled_close(\"../data/ETHUSDT.csv\")\n",
    "# sol = get_resampled_close(\"../data/SOLUSDT.csv\")\n",
    "# uni = get_resampled_close(\"../data/UNIUSDT.csv\")\n",
    "# ape = get_resampled_close(\"../data/APEUSDT.csv\")\n",
    "# mana = get_resampled_close(\"../data/MANAUSDT.csv\")"
   ]
  },
  {
   "cell_type": "code",
   "execution_count": 16,
   "id": "e30fde8c",
   "metadata": {},
   "outputs": [
    {
     "data": {
      "text/plain": [
       "(-1.783049169943206,\n",
       " 0.6379186033844976,\n",
       " array([-3.89694043, -3.33640917, -3.04464377]))"
      ]
     },
     "execution_count": 16,
     "metadata": {},
     "output_type": "execute_result"
    }
   ],
   "source": [
    "coint(btc,eth)"
   ]
  },
  {
   "cell_type": "code",
   "execution_count": 19,
   "id": "eecb65c3",
   "metadata": {},
   "outputs": [
    {
     "name": "stdout",
     "output_type": "stream",
     "text": [
      "                            OLS Regression Results                            \n",
      "==============================================================================\n",
      "Dep. Variable:                  close   R-squared:                       0.814\n",
      "Model:                            OLS   Adj. R-squared:                  0.814\n",
      "Method:                 Least Squares   F-statistic:                 9.600e+04\n",
      "Date:                Sat, 30 Jul 2022   Prob (F-statistic):               0.00\n",
      "Time:                        12:37:33   Log-Likelihood:            -2.2730e+05\n",
      "No. Observations:               21889   AIC:                         4.546e+05\n",
      "Df Residuals:                   21887   BIC:                         4.546e+05\n",
      "Df Model:                           1                                         \n",
      "Covariance Type:            nonrobust                                         \n",
      "==============================================================================\n",
      "                 coef    std err          t      P>|t|      [0.025      0.975]\n",
      "------------------------------------------------------------------------------\n",
      "const       1.007e+04     85.109    118.263      0.000    9898.388    1.02e+04\n",
      "close         11.8457      0.038    309.847      0.000      11.771      11.921\n",
      "==============================================================================\n",
      "Omnibus:                     8242.344   Durbin-Watson:                   0.000\n",
      "Prob(Omnibus):                  0.000   Jarque-Bera (JB):            25225.957\n",
      "Skew:                           2.017   Prob(JB):                         0.00\n",
      "Kurtosis:                       6.375   Cond. No.                     3.58e+03\n",
      "==============================================================================\n",
      "\n",
      "Notes:\n",
      "[1] Standard Errors assume that the covariance matrix of the errors is correctly specified.\n",
      "[2] The condition number is large, 3.58e+03. This might indicate that there are\n",
      "strong multicollinearity or other numerical problems.\n"
     ]
    }
   ],
   "source": [
    "# Regress BTC on ETH\n",
    "eth = sm.add_constant(eth)\n",
    "result = sm.OLS(btc,eth).fit()\n",
    "print(result.summary())"
   ]
  },
  {
   "cell_type": "code",
   "execution_count": 21,
   "id": "fe58298f",
   "metadata": {},
   "outputs": [
    {
     "name": "stdout",
     "output_type": "stream",
     "text": [
      "The p-value for the ADF test is  0.38889410523518664\n"
     ]
    },
    {
     "data": {
      "text/plain": [
       "(-1.783079324765677,\n",
       " 0.38889410523518664,\n",
       " 47,\n",
       " 21841,\n",
       " {'1%': -3.4306494399853973,\n",
       "  '5%': -2.861672342563964,\n",
       "  '10%': -2.56684044222386},\n",
       " 287425.4742031533)"
      ]
     },
     "execution_count": 21,
     "metadata": {},
     "output_type": "execute_result"
    }
   ],
   "source": [
    "# Compute ADF\n",
    "b = result.params[1]\n",
    "spread = btc['close'] - b * eth['close']\n",
    "adf_stats = adfuller(spread)#,maxlag=1)\n",
    "print(\"The p-value for the ADF test is \", adf_stats[1])\n",
    "adf_stats"
   ]
  }
 ],
 "metadata": {
  "kernelspec": {
   "display_name": "trading-bot",
   "language": "python",
   "name": "trading-bot"
  },
  "language_info": {
   "codemirror_mode": {
    "name": "ipython",
    "version": 3
   },
   "file_extension": ".py",
   "mimetype": "text/x-python",
   "name": "python",
   "nbconvert_exporter": "python",
   "pygments_lexer": "ipython3",
   "version": "3.8.0"
  }
 },
 "nbformat": 4,
 "nbformat_minor": 5
}
