{
 "cells": [
  {
   "cell_type": "code",
   "execution_count": 1,
   "metadata": {},
   "outputs": [],
   "source": [
    "import numpy as np\n",
    "import pandas as pd\n",
    "import itertools"
   ]
  },
  {
   "cell_type": "code",
   "execution_count": 4,
   "metadata": {},
   "outputs": [],
   "source": [
    "# TODO: make pivot table, symbol as coloumn, value = close"
   ]
  },
  {
   "cell_type": "code",
   "execution_count": 2,
   "metadata": {},
   "outputs": [],
   "source": [
    "def pair_select(df):\n",
    "    def _distance_score(p1, p2):\n",
    "        diff = p1 - p2\n",
    "        return (diff * diff).sum()\n",
    "\n",
    "    # coin_list = df['symbol'].unique.tolist()\n",
    "    coin_list = df.columns\n",
    "    coin_num = len(coin_list)\n",
    "    score_mat = np.zeros(coin_num * (coin_num-1)//2)\n",
    "    res_pairs = []\n",
    "\n",
    "    # scoring for all pairs\n",
    "    i = 0\n",
    "    all_pairs = list(itertools.combinations(coin_list,2))\n",
    "    for pair in all_pairs:\n",
    "        px_series = (df[pair[0]],df[pair[1]])\n",
    "        score = _distance_score(px_series)\n",
    "        score_mat[i] = score\n",
    "        res_pairs.append(pair)\n",
    "        i+=1\n",
    "    return res_pairs"
   ]
  },
  {
   "cell_type": "code",
   "execution_count": null,
   "metadata": {},
   "outputs": [],
   "source": []
  }
 ],
 "metadata": {
  "kernelspec": {
   "display_name": "Python 3.8.0 ('trading_bot')",
   "language": "python",
   "name": "python3"
  },
  "language_info": {
   "codemirror_mode": {
    "name": "ipython",
    "version": 3
   },
   "file_extension": ".py",
   "mimetype": "text/x-python",
   "name": "python",
   "nbconvert_exporter": "python",
   "pygments_lexer": "ipython3",
   "version": "3.8.0"
  },
  "orig_nbformat": 4,
  "vscode": {
   "interpreter": {
    "hash": "b22ba5ec174c5e66e1934260f473ae1fba43c21258aa220b8a77f2c55119333f"
   }
  }
 },
 "nbformat": 4,
 "nbformat_minor": 2
}
