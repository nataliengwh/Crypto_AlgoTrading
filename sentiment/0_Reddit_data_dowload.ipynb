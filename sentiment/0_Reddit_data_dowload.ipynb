{
 "cells": [
  {
   "cell_type": "code",
   "execution_count": 1,
   "id": "9677f338",
   "metadata": {},
   "outputs": [],
   "source": [
    "import pandas as pd\n",
    "import time\n",
    "\n",
    "import requests\n",
    "from bs4 import BeautifulSoup\n",
    "import praw\n",
    "from praw.models import MoreComments\n",
    "\n",
    "from os.path import exists"
   ]
  },
  {
   "cell_type": "code",
   "execution_count": 239,
   "id": "f1e6efe0",
   "metadata": {},
   "outputs": [
    {
     "name": "stdout",
     "output_type": "stream",
     "text": [
      "\n"
     ]
    },
    {
     "name": "stderr",
     "output_type": "stream",
     "text": [
      "[WDM] - ====== WebDriver manager ======\n",
      "[WDM] - Current google-chrome version is 103.0.5060\n",
      "[WDM] - Get LATEST chromedriver version for 103.0.5060 google-chrome\n",
      "[WDM] - Driver [C:\\Users\\ricky\\.wdm\\drivers\\chromedriver\\win32\\103.0.5060.53\\chromedriver.exe] found in cache\n"
     ]
    }
   ],
   "source": [
    "## for downloading all website of daily general discussion\n",
    "from selenium import webdriver\n",
    "from selenium.webdriver.chrome.options import Options\n",
    "from webdriver_manager.chrome import ChromeDriverManager\n",
    "\n",
    "options = Options()\n",
    "options.add_argument(\"--disable-notifications\")\n",
    "\n",
    "bot = webdriver.Chrome(ChromeDriverManager().install(), options=options)\n",
    "#bot = webdriver.Chrome()\n",
    "\n",
    "url = 'https://www.reddit.com/r/CryptoCurrency/search/?q=title%3A%22Daily%20Discussion%20-%20March%22%20&restrict_sr=1&sr_nsfw='\n",
    "bot.get(url)\n",
    "#waiting for the page to load\n",
    "time.sleep(3) \n",
    "#repeat scrolling\n",
    "for i in range(25):\n",
    "    #scroll 300 px\n",
    "    bot.execute_script('window.scrollTo(0,(document.body.scrollHeight))')\n",
    "    #waiting for the page to load\n",
    "    time.sleep(3) "
   ]
  },
  {
   "cell_type": "code",
   "execution_count": 240,
   "id": "f91ce58b",
   "metadata": {},
   "outputs": [],
   "source": [
    "# req = requests.get(reqUrl, 'html.parser')"
   ]
  },
  {
   "cell_type": "code",
   "execution_count": 241,
   "id": "6c74e0fa",
   "metadata": {},
   "outputs": [],
   "source": [
    "soup = BeautifulSoup(bot.page_source, 'html.parser')"
   ]
  },
  {
   "cell_type": "code",
   "execution_count": 242,
   "id": "468cf9d1",
   "metadata": {},
   "outputs": [],
   "source": [
    "urls = []\n",
    "for link in soup.find_all('a'):\n",
    "    #print(link.get('href'))\n",
    "    if 'comments' in link.get('href'):\n",
    "        urls.append('https://www.reddit.com' + link.get('href'))\n",
    "    #urls.append(link.get('href'))\n",
    "#urls = [u for u in urls if 'Daily' in urls]"
   ]
  },
  {
   "cell_type": "code",
   "execution_count": 243,
   "id": "0e2a2efc",
   "metadata": {},
   "outputs": [
    {
     "data": {
      "text/plain": [
       "121"
      ]
     },
     "execution_count": 243,
     "metadata": {},
     "output_type": "execute_result"
    }
   ],
   "source": [
    "len(urls)"
   ]
  },
  {
   "cell_type": "code",
   "execution_count": 244,
   "id": "99eb2222",
   "metadata": {},
   "outputs": [],
   "source": [
    "#urls"
   ]
  },
  {
   "cell_type": "code",
   "execution_count": 245,
   "id": "4a2306b6",
   "metadata": {},
   "outputs": [
    {
     "name": "stdout",
     "output_type": "stream",
     "text": [
      "Done\n"
     ]
    }
   ],
   "source": [
    "with open(r'url.txt', 'w') as fp:\n",
    "    for item in urls:\n",
    "        # write each item on a new line\n",
    "        fp.write(\"%s\\n\" % item)\n",
    "    print('Done')"
   ]
  },
  {
   "cell_type": "code",
   "execution_count": 246,
   "id": "24c1f980",
   "metadata": {},
   "outputs": [],
   "source": [
    "bot.close()\n",
    "bot.quit()"
   ]
  },
  {
   "cell_type": "code",
   "execution_count": null,
   "id": "450b3a9c",
   "metadata": {},
   "outputs": [],
   "source": []
  },
  {
   "cell_type": "code",
   "execution_count": null,
   "id": "3de4bca8",
   "metadata": {},
   "outputs": [],
   "source": []
  },
  {
   "cell_type": "code",
   "execution_count": null,
   "id": "5e6dcfb2",
   "metadata": {},
   "outputs": [],
   "source": []
  },
  {
   "cell_type": "code",
   "execution_count": 251,
   "id": "f61dfa95",
   "metadata": {},
   "outputs": [],
   "source": [
    "# list of url\n",
    "dfs = pd.read_excel('url.xlsx', sheet_name='Sheet1')\n",
    "#dfs[dfs.year==2022].url.tolist()"
   ]
  },
  {
   "cell_type": "code",
   "execution_count": 2,
   "id": "fd733249",
   "metadata": {},
   "outputs": [
    {
     "name": "stdout",
     "output_type": "stream",
     "text": [
      "True\n"
     ]
    }
   ],
   "source": [
    "# reddit agent\n",
    "reddit = praw.Reddit(\n",
    "    client_id=\"x8WY3ixCludkwhClM6wTTQ\",\n",
    "    client_secret=\"niFo_CJBwLKgS_bmUssOgWTKEPMCQw\",\n",
    "    user_agent=\"DASC7600\",)\n",
    "print(reddit.read_only)"
   ]
  },
  {
   "cell_type": "code",
   "execution_count": 279,
   "id": "6c1c7808",
   "metadata": {},
   "outputs": [
    {
     "data": {
      "text/plain": [
       "'https://www.reddit.com/r/CryptoCurrency/comments/tuwz77/daily_discussion_april_3_2022_gmt0/'"
      ]
     },
     "execution_count": 279,
     "metadata": {},
     "output_type": "execute_result"
    }
   ],
   "source": [
    "targetUrl = dfs[dfs.year==2022].url.tolist()[1]\n",
    "targetUrl"
   ]
  },
  {
   "cell_type": "code",
   "execution_count": 21,
   "id": "9766af53",
   "metadata": {},
   "outputs": [],
   "source": [
    "targetUrl='https://old.reddit.com/r/CryptoCurrency/comments/w1l73o/daily_general_discussion_july_18_2022_gmt0/'\n",
    "sub = []\n",
    "\n",
    "submission = reddit.submission(url=str(targetUrl))\n",
    "submission.comments.replace_more(limit=100)\n",
    "for comment in submission.comments.list():\n",
    "        sub.append([comment.score,comment.body,comment.created])"
   ]
  },
  {
   "cell_type": "code",
   "execution_count": 22,
   "id": "d2085613",
   "metadata": {},
   "outputs": [],
   "source": [
    "posts = pd.DataFrame(sub,columns=['score','body','created'])"
   ]
  },
  {
   "cell_type": "code",
   "execution_count": 23,
   "id": "ae9731f8",
   "metadata": {},
   "outputs": [
    {
     "data": {
      "text/html": [
       "<div>\n",
       "<style scoped>\n",
       "    .dataframe tbody tr th:only-of-type {\n",
       "        vertical-align: middle;\n",
       "    }\n",
       "\n",
       "    .dataframe tbody tr th {\n",
       "        vertical-align: top;\n",
       "    }\n",
       "\n",
       "    .dataframe thead th {\n",
       "        text-align: right;\n",
       "    }\n",
       "</style>\n",
       "<table border=\"1\" class=\"dataframe\">\n",
       "  <thead>\n",
       "    <tr style=\"text-align: right;\">\n",
       "      <th></th>\n",
       "      <th>score</th>\n",
       "      <th>body</th>\n",
       "      <th>created</th>\n",
       "      <th>created_date</th>\n",
       "      <th>created_time</th>\n",
       "    </tr>\n",
       "  </thead>\n",
       "  <tbody>\n",
       "    <tr>\n",
       "      <th>555</th>\n",
       "      <td>1</td>\n",
       "      <td>[removed]</td>\n",
       "      <td>1.658102e+09</td>\n",
       "      <td>2022-07-18</td>\n",
       "      <td>00:01:38</td>\n",
       "    </tr>\n",
       "    <tr>\n",
       "      <th>115</th>\n",
       "      <td>4</td>\n",
       "      <td>Let's have a green week to come!</td>\n",
       "      <td>1.658103e+09</td>\n",
       "      <td>2022-07-18</td>\n",
       "      <td>00:02:06</td>\n",
       "    </tr>\n",
       "    <tr>\n",
       "      <th>277</th>\n",
       "      <td>2</td>\n",
       "      <td>Good news would be greatly appreciated this week.</td>\n",
       "      <td>1.658103e+09</td>\n",
       "      <td>2022-07-18</td>\n",
       "      <td>00:02:38</td>\n",
       "    </tr>\n",
       "    <tr>\n",
       "      <th>1247</th>\n",
       "      <td>1</td>\n",
       "      <td>Good sign... I'll buy more ETH</td>\n",
       "      <td>1.658103e+09</td>\n",
       "      <td>2022-07-18</td>\n",
       "      <td>00:03:12</td>\n",
       "    </tr>\n",
       "    <tr>\n",
       "      <th>464</th>\n",
       "      <td>2</td>\n",
       "      <td>Like clockwork, a Sunday night dump, back to $...</td>\n",
       "      <td>1.658103e+09</td>\n",
       "      <td>2022-07-18</td>\n",
       "      <td>00:04:48</td>\n",
       "    </tr>\n",
       "    <tr>\n",
       "      <th>...</th>\n",
       "      <td>...</td>\n",
       "      <td>...</td>\n",
       "      <td>...</td>\n",
       "      <td>...</td>\n",
       "      <td>...</td>\n",
       "    </tr>\n",
       "    <tr>\n",
       "      <th>155</th>\n",
       "      <td>1</td>\n",
       "      <td>Guys you seem a bit too excited today about a ...</td>\n",
       "      <td>1.658163e+09</td>\n",
       "      <td>2022-07-18</td>\n",
       "      <td>16:50:53</td>\n",
       "    </tr>\n",
       "    <tr>\n",
       "      <th>354</th>\n",
       "      <td>1</td>\n",
       "      <td>Have 50% in for this run up. 50% on the side j...</td>\n",
       "      <td>1.658163e+09</td>\n",
       "      <td>2022-07-18</td>\n",
       "      <td>16:51:26</td>\n",
       "    </tr>\n",
       "    <tr>\n",
       "      <th>611</th>\n",
       "      <td>1</td>\n",
       "      <td>Just got messaged by a \"Crypto Analyst.\" It ga...</td>\n",
       "      <td>1.658163e+09</td>\n",
       "      <td>2022-07-18</td>\n",
       "      <td>16:51:33</td>\n",
       "    </tr>\n",
       "    <tr>\n",
       "      <th>612</th>\n",
       "      <td>1</td>\n",
       "      <td>Up or not up, there is no down.</td>\n",
       "      <td>1.658163e+09</td>\n",
       "      <td>2022-07-18</td>\n",
       "      <td>16:51:47</td>\n",
       "    </tr>\n",
       "    <tr>\n",
       "      <th>613</th>\n",
       "      <td>1</td>\n",
       "      <td>ETH touching 1500 is not only a glimmer of hop...</td>\n",
       "      <td>1.658163e+09</td>\n",
       "      <td>2022-07-18</td>\n",
       "      <td>16:54:29</td>\n",
       "    </tr>\n",
       "  </tbody>\n",
       "</table>\n",
       "<p>1850 rows × 5 columns</p>\n",
       "</div>"
      ],
      "text/plain": [
       "      score                                               body       created  \\\n",
       "555       1                                          [removed]  1.658102e+09   \n",
       "115       4                   Let's have a green week to come!  1.658103e+09   \n",
       "277       2  Good news would be greatly appreciated this week.  1.658103e+09   \n",
       "1247      1                     Good sign... I'll buy more ETH  1.658103e+09   \n",
       "464       2  Like clockwork, a Sunday night dump, back to $...  1.658103e+09   \n",
       "...     ...                                                ...           ...   \n",
       "155       1  Guys you seem a bit too excited today about a ...  1.658163e+09   \n",
       "354       1  Have 50% in for this run up. 50% on the side j...  1.658163e+09   \n",
       "611       1  Just got messaged by a \"Crypto Analyst.\" It ga...  1.658163e+09   \n",
       "612       1                    Up or not up, there is no down.  1.658163e+09   \n",
       "613       1  ETH touching 1500 is not only a glimmer of hop...  1.658163e+09   \n",
       "\n",
       "     created_date created_time  \n",
       "555    2022-07-18     00:01:38  \n",
       "115    2022-07-18     00:02:06  \n",
       "277    2022-07-18     00:02:38  \n",
       "1247   2022-07-18     00:03:12  \n",
       "464    2022-07-18     00:04:48  \n",
       "...           ...          ...  \n",
       "155    2022-07-18     16:50:53  \n",
       "354    2022-07-18     16:51:26  \n",
       "611    2022-07-18     16:51:33  \n",
       "612    2022-07-18     16:51:47  \n",
       "613    2022-07-18     16:54:29  \n",
       "\n",
       "[1850 rows x 5 columns]"
      ]
     },
     "execution_count": 23,
     "metadata": {},
     "output_type": "execute_result"
    }
   ],
   "source": [
    "import datetime as dt\n",
    "\n",
    "seconds = posts[\"created\"] # Generating test data\n",
    "\n",
    "start = dt.datetime.utcfromtimestamp(0) # You need a reference point GMT+0\n",
    "\n",
    "datetime_series = seconds.astype('timedelta64[s]') + start\n",
    "\n",
    "posts[\"created_date\"] = datetime_series.dt.date\n",
    "posts[\"created_time\"] = datetime_series.dt.time\n",
    "\n",
    "posts.sort_values('created_time')\n",
    "\n",
    "#2386+1882"
   ]
  },
  {
   "cell_type": "code",
   "execution_count": 317,
   "id": "7b572211",
   "metadata": {},
   "outputs": [],
   "source": [
    "#sub = []\n",
    "for i,targetUrl,m,d,y,*_ in list(dfs[dfs.year>=2020].itertuples(index=True, name=None)):\n",
    "    if not exists('redditData/' + str(int(y)) + \"_\" + m + str(int(d)) + '.csv'):\n",
    "        sub = []\n",
    "        submission = reddit.submission(url=str(targetUrl))\n",
    "        submission.comments.replace_more(limit=100)\n",
    "        for comment in submission.comments.list():\n",
    "            sub.append([comment.score,comment.body,comment.created])\n",
    "        posts = pd.DataFrame(sub,columns=['score','body','created'])\n",
    "        posts.to_csv('redditData/' + str(int(y)) + \"_\" + m + str(int(d)) + '.csv')\n",
    "#posts = pd.DataFrame(sub,columns=['score','body','created'])\n",
    "#posts.to_csv('2022.csv')"
   ]
  },
  {
   "cell_type": "code",
   "execution_count": 316,
   "id": "0df8b4ef",
   "metadata": {},
   "outputs": [
    {
     "data": {
      "text/plain": [
       "True"
      ]
     },
     "execution_count": 316,
     "metadata": {},
     "output_type": "execute_result"
    }
   ],
   "source": []
  },
  {
   "cell_type": "code",
   "execution_count": 315,
   "id": "c08b7a32",
   "metadata": {},
   "outputs": [
    {
     "data": {
      "text/plain": [
       "2022.0"
      ]
     },
     "execution_count": 315,
     "metadata": {},
     "output_type": "execute_result"
    }
   ],
   "source": [
    "y\n"
   ]
  },
  {
   "cell_type": "code",
   "execution_count": null,
   "id": "2314f8b9",
   "metadata": {},
   "outputs": [],
   "source": []
  }
 ],
 "metadata": {
  "kernelspec": {
   "display_name": "Python 3 (ipykernel)",
   "language": "python",
   "name": "python3"
  },
  "language_info": {
   "codemirror_mode": {
    "name": "ipython",
    "version": 3
   },
   "file_extension": ".py",
   "mimetype": "text/x-python",
   "name": "python",
   "nbconvert_exporter": "python",
   "pygments_lexer": "ipython3",
   "version": "3.8.8"
  },
  "toc": {
   "base_numbering": 1,
   "nav_menu": {},
   "number_sections": true,
   "sideBar": true,
   "skip_h1_title": false,
   "title_cell": "Table of Contents",
   "title_sidebar": "Contents",
   "toc_cell": false,
   "toc_position": {},
   "toc_section_display": true,
   "toc_window_display": false
  },
  "varInspector": {
   "cols": {
    "lenName": 16,
    "lenType": 16,
    "lenVar": 40
   },
   "kernels_config": {
    "python": {
     "delete_cmd_postfix": "",
     "delete_cmd_prefix": "del ",
     "library": "var_list.py",
     "varRefreshCmd": "print(var_dic_list())"
    },
    "r": {
     "delete_cmd_postfix": ") ",
     "delete_cmd_prefix": "rm(",
     "library": "var_list.r",
     "varRefreshCmd": "cat(var_dic_list()) "
    }
   },
   "types_to_exclude": [
    "module",
    "function",
    "builtin_function_or_method",
    "instance",
    "_Feature"
   ],
   "window_display": false
  }
 },
 "nbformat": 4,
 "nbformat_minor": 5
}
