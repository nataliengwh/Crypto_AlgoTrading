{
 "cells": [
  {
   "cell_type": "code",
   "execution_count": 15,
   "id": "f6e54ea2-03b7-4854-8191-1baaef47b8ee",
   "metadata": {},
   "outputs": [],
   "source": [
    "import binance as bn\n",
    "from binance.client import Client\n",
    "import pandas as pd\n",
    "from datetime import datetime\n",
    "import warnings\n",
    "warnings.filterwarnings('ignore')\n",
    "import locale\n",
    "locale.setlocale(locale.LC_ALL, 'en_US.UTF-8')\n",
    "# binance trial key: \n",
    "# https://testnet.binance.vision/\n",
    "api_key = ''\n",
    "api_secret = ''\n",
    "client = Client(api_key,api_secret)"
   ]
  },
  {
   "cell_type": "code",
   "execution_count": 16,
   "id": "b600e027-3727-471e-9682-0dd8833a918d",
   "metadata": {},
   "outputs": [],
   "source": [
    "base_url = \"https://testnet.binance.vision/api\"\n",
    "# end_point = \"jhgjh"
   ]
  },
  {
   "cell_type": "code",
   "execution_count": 17,
   "id": "4f7cfbe9-fc48-42df-88cc-d7a46cc479df",
   "metadata": {},
   "outputs": [],
   "source": [
    "start_date = \"1 Jun, 2021\"\n",
    "end_date = \"31 Oct, 2022\"\n",
    "interval = Client.KLINE_INTERVAL_5MINUTE #1DAY\n",
    "# for more available interval: https://python-binance.readthedocs.io/en/latest/constants.html\n",
    "col = ['open_time','open','high','low','close','volume','close_time','asset_volume',\n",
    "       'num_trades','taker_base_volume','taker_quote_volume','symbol']\n",
    "symbols = ['BTCUSDT','ETHUSDT']#,'UNIUSDT','SOLUSDT','APEUSDT','MANAUSDT']\n",
    "# symbols = [i.get('symbol') for i in client.get_all_tickers()]"
   ]
  },
  {
   "cell_type": "code",
   "execution_count": 20,
   "id": "c2894684-b089-449c-a558-71e3d561fa89",
   "metadata": {},
   "outputs": [
    {
     "name": "stdout",
     "output_type": "stream",
     "text": [
      "running klines for AVAXUSDT\n",
      "CPU times: user 2.73 s, sys: 285 ms, total: 3.01 s\n",
      "Wall time: 1min 12s\n"
     ]
    }
   ],
   "source": [
    "%%time\n",
    "#df = pd.DataFrame()\n",
    "# for sym in symbols:\n",
    "sym = 'AVAXUSDT'\n",
    "print(f\"running klines for {sym}\")\n",
    "klines = client.get_historical_klines(sym,interval,start_date,end_date)\n",
    "df = pd.DataFrame(klines).iloc[:,:-1]\n",
    "df = df.astype(float)\n",
    "df['symbol'] = sym\n",
    "# df = df.append(temp)"
   ]
  },
  {
   "cell_type": "code",
   "execution_count": 21,
   "id": "58113e7a-734e-4e8d-8206-b2d7fc98b143",
   "metadata": {},
   "outputs": [
    {
     "name": "stdout",
     "output_type": "stream",
     "text": [
      "(148819, 7)\n"
     ]
    }
   ],
   "source": [
    "# clean raw df\n",
    "df.columns = col\n",
    "df['open_time'] = df['open_time'].apply(lambda x: datetime.fromtimestamp(x/1000.0)) #get rid of millisecond\n",
    "# df['close_time'] = df['close_time'].apply(lambda x: datetime.fromtimestamp(x/1000.0))\n",
    "# df['pct_chg'] = df['close'].pct_change()*100\n",
    "df.drop(columns=['close_time','volume','taker_base_volume','num_trades','taker_quote_volume',],inplace=True) #drop base valued (ie in BTC)\n",
    "df.reset_index(drop=True,inplace=True)\n",
    "print(df.shape)\n",
    "df.to_csv(f'{sym.lower()}_5m.csv')"
   ]
  },
  {
   "cell_type": "code",
   "execution_count": null,
   "id": "45db8166-1358-442a-b53c-b156344df16a",
   "metadata": {},
   "outputs": [],
   "source": [
    "all_df = pd.DataFrame()\n"
   ]
  },
  {
   "cell_type": "markdown",
   "id": "b502514c-c159-422a-ab07-6a24594c8163",
   "metadata": {},
   "source": [
    "##### Volume\n",
    "- asset_volume = Volume traded, in quote asset (USDT)"
   ]
  },
  {
   "cell_type": "markdown",
   "id": "88473b2f-d9cc-49c6-b543-e841e69a092a",
   "metadata": {},
   "source": [
    "##### Taker base/quote volume\n",
    "- Taker buy base asset volume represents how many of the total base asset volume are contributed by the taker buy orders. Once taker_buy_base_asset_volume and the total volume (Volume) is known, the value of the following cases ( taker_sell_volume, maker_buy_volume, maker_sell_volume ) are clear.Every trade has a buyer and a seller. A buyer can be a maker or a taker. But when a buyer is a maker, the seller must be a taker, and vice versa. \n",
    "- taker_buy_base_asset_volume = maker_sell_base_asset_volume\n",
    "- taker_sell_base_asset_volume = maker_buy_base_asset_volume\n",
    "- total_volume = taker_buy_base_asset_volume + taker_sell_base_asset_volume = maker_buy_base_asset_volume + maker_sell_base_asset_volume"
   ]
  },
  {
   "cell_type": "code",
   "execution_count": 119,
   "id": "fb5c6230-fc39-49dc-ac4c-374e363d41b4",
   "metadata": {},
   "outputs": [],
   "source": [
    "df.to_feather('binance_kline_2020.feather')"
   ]
  },
  {
   "cell_type": "code",
   "execution_count": 127,
   "id": "38d2b69c-0cba-45db-8a4d-99fb21d97f12",
   "metadata": {},
   "outputs": [],
   "source": [
    "df_2020 = pd.read_feather('binance_kline_2020.feather')\n",
    "df_2021 = pd.read_feather('binance_kline_2021.feather')\n",
    "df_2022 = pd.read_feather('binance_kline_2022.feather')"
   ]
  },
  {
   "cell_type": "code",
   "execution_count": 134,
   "id": "f2cb7741-27c1-478f-87be-ae51a4db7fad",
   "metadata": {},
   "outputs": [
    {
     "name": "stdout",
     "output_type": "stream",
     "text": [
      "(1136961, 10)\n"
     ]
    },
    {
     "data": {
      "text/html": [
       "<div>\n",
       "<style scoped>\n",
       "    .dataframe tbody tr th:only-of-type {\n",
       "        vertical-align: middle;\n",
       "    }\n",
       "\n",
       "    .dataframe tbody tr th {\n",
       "        vertical-align: top;\n",
       "    }\n",
       "\n",
       "    .dataframe thead th {\n",
       "        text-align: right;\n",
       "    }\n",
       "</style>\n",
       "<table border=\"1\" class=\"dataframe\">\n",
       "  <thead>\n",
       "    <tr style=\"text-align: right;\">\n",
       "      <th></th>\n",
       "      <th>open_time</th>\n",
       "      <th>open</th>\n",
       "      <th>high</th>\n",
       "      <th>low</th>\n",
       "      <th>close</th>\n",
       "      <th>asset_volume</th>\n",
       "      <th>num_trades</th>\n",
       "      <th>taker_quote_volume</th>\n",
       "      <th>symbol</th>\n",
       "      <th>pct_chg</th>\n",
       "    </tr>\n",
       "  </thead>\n",
       "  <tbody>\n",
       "    <tr>\n",
       "      <th>0</th>\n",
       "      <td>2020-01-01 08:00:00</td>\n",
       "      <td>7195.24</td>\n",
       "      <td>7196.25</td>\n",
       "      <td>7178.64</td>\n",
       "      <td>7179.78</td>\n",
       "      <td>686317.136252</td>\n",
       "      <td>1127.0</td>\n",
       "      <td>235537.295045</td>\n",
       "      <td>BTCUSDT</td>\n",
       "      <td>NaN</td>\n",
       "    </tr>\n",
       "    <tr>\n",
       "      <th>1</th>\n",
       "      <td>2020-01-01 08:05:00</td>\n",
       "      <td>7179.76</td>\n",
       "      <td>7191.77</td>\n",
       "      <td>7178.20</td>\n",
       "      <td>7191.07</td>\n",
       "      <td>426481.260364</td>\n",
       "      <td>631.0</td>\n",
       "      <td>177935.618201</td>\n",
       "      <td>BTCUSDT</td>\n",
       "      <td>0.157247</td>\n",
       "    </tr>\n",
       "    <tr>\n",
       "      <th>2</th>\n",
       "      <td>2020-01-01 08:10:00</td>\n",
       "      <td>7193.15</td>\n",
       "      <td>7193.53</td>\n",
       "      <td>7180.24</td>\n",
       "      <td>7180.97</td>\n",
       "      <td>345446.503019</td>\n",
       "      <td>694.0</td>\n",
       "      <td>139596.621683</td>\n",
       "      <td>BTCUSDT</td>\n",
       "      <td>-0.140452</td>\n",
       "    </tr>\n",
       "    <tr>\n",
       "      <th>3</th>\n",
       "      <td>2020-01-01 08:15:00</td>\n",
       "      <td>7180.97</td>\n",
       "      <td>7186.40</td>\n",
       "      <td>7177.35</td>\n",
       "      <td>7178.29</td>\n",
       "      <td>231162.555424</td>\n",
       "      <td>576.0</td>\n",
       "      <td>93091.433276</td>\n",
       "      <td>BTCUSDT</td>\n",
       "      <td>-0.037321</td>\n",
       "    </tr>\n",
       "    <tr>\n",
       "      <th>4</th>\n",
       "      <td>2020-01-01 08:20:00</td>\n",
       "      <td>7177.71</td>\n",
       "      <td>7182.46</td>\n",
       "      <td>7175.47</td>\n",
       "      <td>7176.96</td>\n",
       "      <td>351927.893881</td>\n",
       "      <td>710.0</td>\n",
       "      <td>163817.881155</td>\n",
       "      <td>BTCUSDT</td>\n",
       "      <td>-0.018528</td>\n",
       "    </tr>\n",
       "  </tbody>\n",
       "</table>\n",
       "</div>"
      ],
      "text/plain": [
       "            open_time     open     high      low    close   asset_volume  \\\n",
       "0 2020-01-01 08:00:00  7195.24  7196.25  7178.64  7179.78  686317.136252   \n",
       "1 2020-01-01 08:05:00  7179.76  7191.77  7178.20  7191.07  426481.260364   \n",
       "2 2020-01-01 08:10:00  7193.15  7193.53  7180.24  7180.97  345446.503019   \n",
       "3 2020-01-01 08:15:00  7180.97  7186.40  7177.35  7178.29  231162.555424   \n",
       "4 2020-01-01 08:20:00  7177.71  7182.46  7175.47  7176.96  351927.893881   \n",
       "\n",
       "   num_trades  taker_quote_volume   symbol   pct_chg  \n",
       "0      1127.0       235537.295045  BTCUSDT       NaN  \n",
       "1       631.0       177935.618201  BTCUSDT  0.157247  \n",
       "2       694.0       139596.621683  BTCUSDT -0.140452  \n",
       "3       576.0        93091.433276  BTCUSDT -0.037321  \n",
       "4       710.0       163817.881155  BTCUSDT -0.018528  "
      ]
     },
     "execution_count": 134,
     "metadata": {},
     "output_type": "execute_result"
    }
   ],
   "source": [
    "all_df = pd.concat([df_2020,df_2021,df_2022])\n",
    "all_df.ffill(inplace=True)\n",
    "all_df.reset_index(drop=True,inplace=True)\n",
    "print(all_df.shape)\n",
    "all_df.head()"
   ]
  },
  {
   "cell_type": "code",
   "execution_count": 135,
   "id": "afed1266-277e-4346-b6ef-ba195af4e569",
   "metadata": {},
   "outputs": [],
   "source": [
    "all_df.to_feather('binance_kline.feather')"
   ]
  },
  {
   "cell_type": "markdown",
   "id": "6600b28a",
   "metadata": {},
   "source": [
    "### Manage dataset"
   ]
  },
  {
   "cell_type": "code",
   "execution_count": 2,
   "id": "ce16776e",
   "metadata": {},
   "outputs": [
    {
     "name": "stdout",
     "output_type": "stream",
     "text": [
      "/Users/NanaNg/Documents/FYP/crypto_backtest/Crypto_AlgoTrading/data\n"
     ]
    }
   ],
   "source": [
    "cd /Users/NanaNg/Documents/FYP/crypto_backtest/Crypto_AlgoTrading/data"
   ]
  },
  {
   "cell_type": "code",
   "execution_count": 5,
   "id": "6a1c0975-5d61-4b76-ad5f-0d90cf42ac83",
   "metadata": {},
   "outputs": [],
   "source": [
    "import pandas as pd\n",
    "df = pd.read_csv('okx_20221h.csv')\n",
    "df.to_feather('okx_20221h.feather')"
   ]
  },
  {
   "cell_type": "code",
   "execution_count": 3,
   "id": "11f37824",
   "metadata": {},
   "outputs": [
    {
     "data": {
      "text/html": [
       "<div>\n",
       "<style scoped>\n",
       "    .dataframe tbody tr th:only-of-type {\n",
       "        vertical-align: middle;\n",
       "    }\n",
       "\n",
       "    .dataframe tbody tr th {\n",
       "        vertical-align: top;\n",
       "    }\n",
       "\n",
       "    .dataframe thead th {\n",
       "        text-align: right;\n",
       "    }\n",
       "</style>\n",
       "<table border=\"1\" class=\"dataframe\">\n",
       "  <thead>\n",
       "    <tr style=\"text-align: right;\">\n",
       "      <th></th>\n",
       "      <th>open_time</th>\n",
       "      <th>open</th>\n",
       "      <th>high</th>\n",
       "      <th>low</th>\n",
       "      <th>close</th>\n",
       "      <th>asset_volume</th>\n",
       "      <th>num_trades</th>\n",
       "      <th>taker_quote_volume</th>\n",
       "      <th>symbol</th>\n",
       "      <th>pct_chg</th>\n",
       "    </tr>\n",
       "  </thead>\n",
       "  <tbody>\n",
       "    <tr>\n",
       "      <th>0</th>\n",
       "      <td>2020-01-01 08:00:00</td>\n",
       "      <td>7195.24</td>\n",
       "      <td>7196.25</td>\n",
       "      <td>7178.64</td>\n",
       "      <td>7179.78</td>\n",
       "      <td>686317.136252</td>\n",
       "      <td>1127.0</td>\n",
       "      <td>235537.295045</td>\n",
       "      <td>BTCUSDT</td>\n",
       "      <td>NaN</td>\n",
       "    </tr>\n",
       "    <tr>\n",
       "      <th>1</th>\n",
       "      <td>2020-01-01 08:05:00</td>\n",
       "      <td>7179.76</td>\n",
       "      <td>7191.77</td>\n",
       "      <td>7178.20</td>\n",
       "      <td>7191.07</td>\n",
       "      <td>426481.260364</td>\n",
       "      <td>631.0</td>\n",
       "      <td>177935.618201</td>\n",
       "      <td>BTCUSDT</td>\n",
       "      <td>0.157247</td>\n",
       "    </tr>\n",
       "    <tr>\n",
       "      <th>2</th>\n",
       "      <td>2020-01-01 08:10:00</td>\n",
       "      <td>7193.15</td>\n",
       "      <td>7193.53</td>\n",
       "      <td>7180.24</td>\n",
       "      <td>7180.97</td>\n",
       "      <td>345446.503019</td>\n",
       "      <td>694.0</td>\n",
       "      <td>139596.621683</td>\n",
       "      <td>BTCUSDT</td>\n",
       "      <td>-0.140452</td>\n",
       "    </tr>\n",
       "    <tr>\n",
       "      <th>3</th>\n",
       "      <td>2020-01-01 08:15:00</td>\n",
       "      <td>7180.97</td>\n",
       "      <td>7186.40</td>\n",
       "      <td>7177.35</td>\n",
       "      <td>7178.29</td>\n",
       "      <td>231162.555424</td>\n",
       "      <td>576.0</td>\n",
       "      <td>93091.433276</td>\n",
       "      <td>BTCUSDT</td>\n",
       "      <td>-0.037321</td>\n",
       "    </tr>\n",
       "    <tr>\n",
       "      <th>4</th>\n",
       "      <td>2020-01-01 08:20:00</td>\n",
       "      <td>7177.71</td>\n",
       "      <td>7182.46</td>\n",
       "      <td>7175.47</td>\n",
       "      <td>7176.96</td>\n",
       "      <td>351927.893881</td>\n",
       "      <td>710.0</td>\n",
       "      <td>163817.881155</td>\n",
       "      <td>BTCUSDT</td>\n",
       "      <td>-0.018528</td>\n",
       "    </tr>\n",
       "  </tbody>\n",
       "</table>\n",
       "</div>"
      ],
      "text/plain": [
       "            open_time     open     high      low    close   asset_volume  \\\n",
       "0 2020-01-01 08:00:00  7195.24  7196.25  7178.64  7179.78  686317.136252   \n",
       "1 2020-01-01 08:05:00  7179.76  7191.77  7178.20  7191.07  426481.260364   \n",
       "2 2020-01-01 08:10:00  7193.15  7193.53  7180.24  7180.97  345446.503019   \n",
       "3 2020-01-01 08:15:00  7180.97  7186.40  7177.35  7178.29  231162.555424   \n",
       "4 2020-01-01 08:20:00  7177.71  7182.46  7175.47  7176.96  351927.893881   \n",
       "\n",
       "   num_trades  taker_quote_volume   symbol   pct_chg  \n",
       "0      1127.0       235537.295045  BTCUSDT       NaN  \n",
       "1       631.0       177935.618201  BTCUSDT  0.157247  \n",
       "2       694.0       139596.621683  BTCUSDT -0.140452  \n",
       "3       576.0        93091.433276  BTCUSDT -0.037321  \n",
       "4       710.0       163817.881155  BTCUSDT -0.018528  "
      ]
     },
     "execution_count": 3,
     "metadata": {},
     "output_type": "execute_result"
    }
   ],
   "source": [
    "df.head()"
   ]
  },
  {
   "cell_type": "code",
   "execution_count": 4,
   "id": "6ff1d948",
   "metadata": {},
   "outputs": [
    {
     "data": {
      "text/plain": [
       "['BTCUSDT', 'ETHUSDT', 'UNIUSDT', 'SOLUSDT', 'MANAUSDT', 'APEUSDT']"
      ]
     },
     "execution_count": 4,
     "metadata": {},
     "output_type": "execute_result"
    }
   ],
   "source": [
    "sym = list(df['symbol'].unique())\n",
    "sym"
   ]
  },
  {
   "cell_type": "code",
   "execution_count": 5,
   "id": "a05f54a8",
   "metadata": {},
   "outputs": [],
   "source": [
    "for s in sym:\n",
    "    sym_df = df[df['symbol'] == s]\n",
    "    df_name = f\"{s}.csv\"\n",
    "    sym_df.to_csv(df_name)"
   ]
  },
  {
   "cell_type": "code",
   "execution_count": null,
   "id": "6fbc8145",
   "metadata": {},
   "outputs": [],
   "source": []
  }
 ],
 "metadata": {
  "kernelspec": {
   "display_name": "trading_master",
   "language": "python",
   "name": "trading_master"
  },
  "language_info": {
   "codemirror_mode": {
    "name": "ipython",
    "version": 3
   },
   "file_extension": ".py",
   "mimetype": "text/x-python",
   "name": "python",
   "nbconvert_exporter": "python",
   "pygments_lexer": "ipython3",
   "version": "3.8.13"
  },
  "vscode": {
   "interpreter": {
    "hash": "b22ba5ec174c5e66e1934260f473ae1fba43c21258aa220b8a77f2c55119333f"
   }
  }
 },
 "nbformat": 4,
 "nbformat_minor": 5
}
