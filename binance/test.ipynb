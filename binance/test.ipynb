{
 "cells": [
  {
   "cell_type": "code",
   "execution_count": 57,
   "metadata": {},
   "outputs": [],
   "source": [
    "import pandas as pd\n",
    "from datetime import datetime"
   ]
  },
  {
   "cell_type": "code",
   "execution_count": 6,
   "metadata": {},
   "outputs": [],
   "source": [
    "'''spot\n",
    "api_key = 'Mr3fIJA4U0GVE0L2nP0k5Qm0qrC9aPkDQuxHvJ2TrZmA36fuIVx3zkJcUdkP71IA'\n",
    "api_secret = 'wP1UOvrGgR1hmgUGtOrBNGkYDuBMgzHkpIIzkvZBgwKYqriHUEDW7toOyIR5c7Ae'\n",
    "'''"
   ]
  },
  {
   "cell_type": "code",
   "execution_count": 27,
   "metadata": {},
   "outputs": [],
   "source": [
    "'''futures'''\n",
    "\n",
    "api_key = \"da51a0215dcd37067647b257431864b88b98b56b6336ffd9245ab8feaa368bc3\"\n",
    "api_secret = \"2c9936cf4403eff15895fde2ec1ae0a532c159f8aa96a38149f97e3aa86316b4\""
   ]
  },
  {
   "cell_type": "code",
   "execution_count": 37,
   "metadata": {},
   "outputs": [],
   "source": [
    "from binance.client import Client\n",
    "client = Client(api_key, api_secret, testnet=True, tld='us')"
   ]
  },
  {
   "cell_type": "code",
   "execution_count": 47,
   "metadata": {},
   "outputs": [],
   "source": [
    "klines = client.get_historical_klines(\"BTCUSDT\", Client.KLINE_INTERVAL_5MINUTE, \"1 day ago UTC\")\n",
    "temp = pd.DataFrame(klines)[-20:]\n",
    "temp = temp.astype(float)\n",
    "col = ['open_time','open','high','low','close','volume','close_time','asset_volume',\n",
    "       'num_trades','taker_base_volume','taker_quote_volume','symbol']\n",
    "temp.columns = col\n",
    "temp['symbol'] = 'BTCUSDT'\n",
    "temp['open_time'] = temp['open_time'].apply(lambda x: datetime.fromtimestamp(x/1000.0))\n",
    "temp['close_time'] = temp['close_time'].apply(lambda x: datetime.fromtimestamp(x/1000.0))"
   ]
  },
  {
   "cell_type": "code",
   "execution_count": 39,
   "metadata": {},
   "outputs": [
    {
     "data": {
      "text/plain": [
       "'https://testnet.binancefuture.com/fapi'"
      ]
     },
     "execution_count": 39,
     "metadata": {},
     "output_type": "execute_result"
    }
   ],
   "source": [
    "client.FUTURES_TESTNET_URL"
   ]
  },
  {
   "cell_type": "code",
   "execution_count": 21,
   "metadata": {},
   "outputs": [],
   "source": []
  },
  {
   "cell_type": "code",
   "execution_count": 16,
   "metadata": {},
   "outputs": [],
   "source": [
    "from binance.enums import *"
   ]
  },
  {
   "cell_type": "code",
   "execution_count": 23,
   "metadata": {},
   "outputs": [],
   "source": [
    "order = client.create_order(\n",
    "    symbol='BNBBTC',\n",
    "    side=SIDE_SELL,\n",
    "    type=ORDER_TYPE_MARKET,\n",
    "    quantity=100)"
   ]
  },
  {
   "cell_type": "code",
   "execution_count": null,
   "metadata": {},
   "outputs": [],
   "source": [
    "info = client.get_isolated_margin_account()\n",
    "info"
   ]
  },
  {
   "cell_type": "code",
   "execution_count": null,
   "metadata": {},
   "outputs": [],
   "source": [
    "accounts = client.get_sub_account_list()\n",
    "accounts"
   ]
  },
  {
   "cell_type": "code",
   "execution_count": 44,
   "metadata": {},
   "outputs": [],
   "source": [
    "from binance.cm_futures import CMFutures"
   ]
  },
  {
   "cell_type": "code",
   "execution_count": 58,
   "metadata": {},
   "outputs": [
    {
     "data": {
      "text/plain": [
       "datetime.datetime(2022, 10, 13, 21, 4, 53, 556000)"
      ]
     },
     "execution_count": 58,
     "metadata": {},
     "output_type": "execute_result"
    }
   ],
   "source": [
    "cm_futures_client = CMFutures()\n",
    "datetime.fromtimestamp(cm_futures_client.time()['serverTime']/1000)"
   ]
  },
  {
   "cell_type": "code",
   "execution_count": 59,
   "metadata": {},
   "outputs": [],
   "source": [
    "cm_futures_client = CMFutures(key=api_key, secret=api_secret)"
   ]
  },
  {
   "cell_type": "code",
   "execution_count": 60,
   "metadata": {},
   "outputs": [
    {
     "ename": "ClientError",
     "evalue": "(401, -2015, 'Invalid API-key, IP, or permissions for action, request ip: 59.148.113.43', {'Content-Type': 'application/json', 'Content-Length': '96', 'Connection': 'keep-alive', 'Date': 'Thu, 13 Oct 2022 13:05:45 GMT', 'Server': 'Tengine', 'X-MBX-USED-WEIGHT-1M': '5', 'x-response-time': '8ms', 'Access-Control-Allow-Origin': '*', 'Access-Control-Allow-Methods': 'GET, POST, PUT, DELETE, OPTIONS', 'X-Cache': 'Error from cloudfront', 'Via': '1.1 4aed579d267267dd8aac916efed7b06e.cloudfront.net (CloudFront)', 'X-Amz-Cf-Pop': 'HKG62-C2', 'X-Amz-Cf-Id': '1uizOSrSRKbjYzlw21koexhC4Mdr_47JVMbPJ1f1TI_qR8imJ7bUGQ=='})",
     "output_type": "error",
     "traceback": [
      "\u001b[1;31m---------------------------------------------------------------------------\u001b[0m",
      "\u001b[1;31mClientError\u001b[0m                               Traceback (most recent call last)",
      "\u001b[1;32mc:\\Users\\Owner\\Documents\\GitHub\\Crypto_AlgoTrading\\binance\\test.ipynb Cell 15\u001b[0m in \u001b[0;36m<cell line: 1>\u001b[1;34m()\u001b[0m\n\u001b[1;32m----> <a href='vscode-notebook-cell:/c%3A/Users/Owner/Documents/GitHub/Crypto_AlgoTrading/binance/test.ipynb#X23sZmlsZQ%3D%3D?line=0'>1</a>\u001b[0m cm_futures_client\u001b[39m.\u001b[39;49maccount()\n",
      "File \u001b[1;32mc:\\Users\\Owner\\AppData\\Local\\Programs\\Python\\Python39\\lib\\site-packages\\binance\\cm_futures\\account.py:515\u001b[0m, in \u001b[0;36maccount\u001b[1;34m(self, **kwargs)\u001b[0m\n\u001b[0;32m    498\u001b[0m \u001b[39m\"\"\"\u001b[39;00m\n\u001b[0;32m    499\u001b[0m \u001b[39m|\u001b[39;00m\n\u001b[0;32m    500\u001b[0m \u001b[39m| **Account Information (USER_DATA)**\u001b[39;00m\n\u001b[1;32m   (...)\u001b[0m\n\u001b[0;32m    511\u001b[0m \u001b[39m|\u001b[39;00m\n\u001b[0;32m    512\u001b[0m \u001b[39m\"\"\"\u001b[39;00m\n\u001b[0;32m    514\u001b[0m url_path \u001b[39m=\u001b[39m \u001b[39m\"\u001b[39m\u001b[39m/dapi/v1/account\u001b[39m\u001b[39m\"\u001b[39m\n\u001b[1;32m--> 515\u001b[0m \u001b[39mreturn\u001b[39;00m \u001b[39mself\u001b[39;49m\u001b[39m.\u001b[39;49msign_request(\u001b[39m\"\u001b[39;49m\u001b[39mGET\u001b[39;49m\u001b[39m\"\u001b[39;49m, url_path, {\u001b[39m*\u001b[39;49m\u001b[39m*\u001b[39;49mkwargs})\n",
      "File \u001b[1;32mc:\\Users\\Owner\\AppData\\Local\\Programs\\Python\\Python39\\lib\\site-packages\\binance\\api.py:82\u001b[0m, in \u001b[0;36mAPI.sign_request\u001b[1;34m(self, http_method, url_path, payload, special)\u001b[0m\n\u001b[0;32m     80\u001b[0m signature \u001b[39m=\u001b[39m \u001b[39mself\u001b[39m\u001b[39m.\u001b[39m_get_sign(query_string)\n\u001b[0;32m     81\u001b[0m payload[\u001b[39m\"\u001b[39m\u001b[39msignature\u001b[39m\u001b[39m\"\u001b[39m] \u001b[39m=\u001b[39m signature\n\u001b[1;32m---> 82\u001b[0m \u001b[39mreturn\u001b[39;00m \u001b[39mself\u001b[39;49m\u001b[39m.\u001b[39;49msend_request(http_method, url_path, payload, special)\n",
      "File \u001b[1;32mc:\\Users\\Owner\\AppData\\Local\\Programs\\Python\\Python39\\lib\\site-packages\\binance\\api.py:116\u001b[0m, in \u001b[0;36mAPI.send_request\u001b[1;34m(self, http_method, url_path, payload, special)\u001b[0m\n\u001b[0;32m    114\u001b[0m response \u001b[39m=\u001b[39m \u001b[39mself\u001b[39m\u001b[39m.\u001b[39m_dispatch_request(http_method)(\u001b[39m*\u001b[39m\u001b[39m*\u001b[39mparams)\n\u001b[0;32m    115\u001b[0m logging\u001b[39m.\u001b[39mdebug(\u001b[39m\"\u001b[39m\u001b[39mraw response from server:\u001b[39m\u001b[39m\"\u001b[39m \u001b[39m+\u001b[39m response\u001b[39m.\u001b[39mtext)\n\u001b[1;32m--> 116\u001b[0m \u001b[39mself\u001b[39;49m\u001b[39m.\u001b[39;49m_handle_exception(response)\n\u001b[0;32m    118\u001b[0m \u001b[39mtry\u001b[39;00m:\n\u001b[0;32m    119\u001b[0m     data \u001b[39m=\u001b[39m response\u001b[39m.\u001b[39mjson()\n",
      "File \u001b[1;32mc:\\Users\\Owner\\AppData\\Local\\Programs\\Python\\Python39\\lib\\site-packages\\binance\\api.py:169\u001b[0m, in \u001b[0;36mAPI._handle_exception\u001b[1;34m(self, response)\u001b[0m\n\u001b[0;32m    167\u001b[0m     \u001b[39mexcept\u001b[39;00m JSONDecodeError:\n\u001b[0;32m    168\u001b[0m         \u001b[39mraise\u001b[39;00m ClientError(status_code, \u001b[39mNone\u001b[39;00m, response\u001b[39m.\u001b[39mtext, response\u001b[39m.\u001b[39mheaders)\n\u001b[1;32m--> 169\u001b[0m     \u001b[39mraise\u001b[39;00m ClientError(status_code, err[\u001b[39m\"\u001b[39m\u001b[39mcode\u001b[39m\u001b[39m\"\u001b[39m], err[\u001b[39m\"\u001b[39m\u001b[39mmsg\u001b[39m\u001b[39m\"\u001b[39m], response\u001b[39m.\u001b[39mheaders)\n\u001b[0;32m    170\u001b[0m \u001b[39mraise\u001b[39;00m ServerError(status_code, response\u001b[39m.\u001b[39mtext)\n",
      "\u001b[1;31mClientError\u001b[0m: (401, -2015, 'Invalid API-key, IP, or permissions for action, request ip: 59.148.113.43', {'Content-Type': 'application/json', 'Content-Length': '96', 'Connection': 'keep-alive', 'Date': 'Thu, 13 Oct 2022 13:05:45 GMT', 'Server': 'Tengine', 'X-MBX-USED-WEIGHT-1M': '5', 'x-response-time': '8ms', 'Access-Control-Allow-Origin': '*', 'Access-Control-Allow-Methods': 'GET, POST, PUT, DELETE, OPTIONS', 'X-Cache': 'Error from cloudfront', 'Via': '1.1 4aed579d267267dd8aac916efed7b06e.cloudfront.net (CloudFront)', 'X-Amz-Cf-Pop': 'HKG62-C2', 'X-Amz-Cf-Id': '1uizOSrSRKbjYzlw21koexhC4Mdr_47JVMbPJ1f1TI_qR8imJ7bUGQ=='})"
     ]
    }
   ],
   "source": [
    "cm_futures_client.account()"
   ]
  },
  {
   "cell_type": "code",
   "execution_count": null,
   "metadata": {},
   "outputs": [],
   "source": []
  }
 ],
 "metadata": {
  "kernelspec": {
   "display_name": "Python 3.9.13 64-bit",
   "language": "python",
   "name": "python3"
  },
  "language_info": {
   "codemirror_mode": {
    "name": "ipython",
    "version": 3
   },
   "file_extension": ".py",
   "mimetype": "text/x-python",
   "name": "python",
   "nbconvert_exporter": "python",
   "pygments_lexer": "ipython3",
   "version": "3.9.13"
  },
  "orig_nbformat": 4,
  "vscode": {
   "interpreter": {
    "hash": "d8fe9279b24eb5c6c279942e41b8b8e849b3e5cb2998e15bc84e8c8ade1c1671"
   }
  }
 },
 "nbformat": 4,
 "nbformat_minor": 2
}
