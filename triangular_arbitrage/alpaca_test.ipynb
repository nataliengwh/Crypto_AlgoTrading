{
 "cells": [
  {
   "cell_type": "code",
   "execution_count": 140,
   "outputs": [],
   "source": [
    "import requests\n",
    "import alpaca_trade_api as alpaca\n",
    "import math\n",
    "\n",
    "API_KEY = 'PKJ7V71GWHKKT0SQ66C2'\n",
    "SECRET_KEY = '5dqPh7yylDgSNrGMKcesUDiQMwRmUg0fe1XcQfEi'\n",
    "\n",
    "HEADERS = {'APCA-API-KEY-ID': API_KEY,\n",
    "           'APCA-API-SECRET-KEY': SECRET_KEY}\n",
    "\n",
    "ALPACA_BASE_URL = 'https://paper-api.alpaca.markets'\n",
    "DATA_URL = 'https://data.alpaca.markets'\n",
    "rest_api = alpaca.REST(API_KEY, SECRET_KEY, ALPACA_BASE_URL)\n",
    "investment = 1000\n",
    "min_profit_pct = 0.03\n",
    "\n",
    "coins = ['AVAX', 'BCH', 'DOGE', 'ETH', 'LINK', 'LTC', 'MATIC', 'SOL', 'SUSHI', 'UNI', 'YFI']"
   ],
   "metadata": {
    "collapsed": false,
    "pycharm": {
     "name": "#%%\n"
    }
   }
  },
  {
   "cell_type": "code",
   "execution_count": 210,
   "outputs": [],
   "source": [
    "# initialize price dictionary\n",
    "# def init_coin_pair_dict(coins: list) -> list:\n",
    "#     full_list = []\n",
    "#     for coin in coins:\n",
    "#         full_list.append(coin+'/BTC')\n",
    "#         full_list.append(coin + '/USD')\n",
    "#     price_dict = dict.fromkeys(full_list, 0)\n",
    "#     return price_dict\n",
    "# coins = ['AVAX', 'BCH', 'DOGE', 'ETH', 'LINK', 'LTC', 'MATIC', 'SOL', 'SUSHI', 'UNI', 'YFI']\n",
    "# prices_dict = init_coin_pair_dict(coins)\n",
    "\n",
    "def _init_coin_pair_dict(coins: list):\n",
    "    # create list with symbol based in btc & usd\n",
    "    full_list = []\n",
    "    for coin in coins:\n",
    "        full_list.append(coin+'/BTC')\n",
    "        full_list.append(coin + '/USD')\n",
    "    full_list = \",\".join(full_list)\n",
    "    full_list += \",BTC/USD\"\n",
    "    # initiate dictionary for prices\n",
    "    prices_dict = dict.fromkeys(coins, (0, 0)) # tuple to store (BTC/ USD)\n",
    "    return prices_dict, full_list\n",
    "\n",
    "def get_latest_quote(coins) -> dict:\n",
    "    \"\"\"\n",
    "    :param coins: list of coins that have btc denominated pair\n",
    "    :return: {'COIN': (COIN-BTC px, COIN-USD px)}\n",
    "    \"\"\"\n",
    "    prices_dict, full_list = _init_coin_pair_dict(coins)\n",
    "    quote_dict = get_quote(full_list)\n",
    "    # try:\n",
    "    #     quote = requests.get('{0}/v1beta2/crypto/latest/trades?symbols={1}'\n",
    "    #                          .format(DATA_URL, full_list), headers=HEADERS)\n",
    "    # except Exception as e:\n",
    "    #     print(f\"ERROR when fetching Alpaca data: {e}\")\n",
    "    #     return False\n",
    "    # quote_dict = quote.json()['trades']\n",
    "    # fill prices_dict with quote prices\n",
    "    for coin in coins:\n",
    "        to_btc = quote_dict[f\"{coin}/BTC\"]['p']\n",
    "        to_usd = quote_dict[f\"{coin}/USD\"]['p']\n",
    "        prices_dict[coin] = (to_btc, to_usd)\n",
    "    prices_dict['BTC/USD'] = quote_dict[f\"BTC/USD\"]['p']\n",
    "    return prices_dict"
   ],
   "metadata": {
    "collapsed": false,
    "pycharm": {
     "name": "#%%\n"
    }
   }
  },
  {
   "cell_type": "code",
   "execution_count": 216,
   "outputs": [
    {
     "data": {
      "text/plain": "{'BTC/USD': {'i': 46970056,\n  'p': 19132,\n  's': 0.0014,\n  't': '2022-10-15T16:12:37.060878Z',\n  'tks': 'B'}}"
     },
     "execution_count": 216,
     "metadata": {},
     "output_type": "execute_result"
    }
   ],
   "source": [
    "get_quote('BTC/USD')"
   ],
   "metadata": {
    "collapsed": false,
    "pycharm": {
     "name": "#%%\n"
    }
   }
  },
  {
   "cell_type": "code",
   "execution_count": 221,
   "outputs": [
    {
     "data": {
      "text/plain": "'98493.28535131177366284'"
     },
     "execution_count": 221,
     "metadata": {},
     "output_type": "execute_result"
    }
   ],
   "source": [
    "def get_account_balance():\n",
    "    \"\"\" place order to Alpaca \"\"\"\n",
    "    try:\n",
    "        balance = requests.get(\n",
    "            '{0}/v2/account'.format(ALPACA_BASE_URL), headers=HEADERS)\n",
    "        return balance.json()['portfolio_value']\n",
    "    except Exception as e:\n",
    "        print(f\"ERROR when getting account balance: {e}\")\n",
    "        return False\n",
    "get_account_balance()"
   ],
   "metadata": {
    "collapsed": false,
    "pycharm": {
     "name": "#%%\n"
    }
   }
  },
  {
   "cell_type": "code",
   "execution_count": 223,
   "outputs": [
    {
     "name": "stdout",
     "output_type": "stream",
     "text": [
      "Trade Triggered: BUY/BUY/SELL\n",
      "Spread: 0.00017\n",
      "BUY BTC/USD:0.052 @ 19,159\n",
      "ERROR when buying AVAX/BTC (2nd Trade)\n",
      "--------------------------------\n",
      "No arbitrage opportunity, spread: 0.00000\n",
      "--------------------------------\n",
      "Trade Triggered: BUY/BUY/SELL\n",
      "Spread: 0.00093\n",
      "BUY BTC/USD:0.052 @ 19,159\n",
      "Buy BCH/BTC:8.7 @ 0.005694\n",
      "Sell BCH/USD:8.7 @ 1.1e+02\n",
      "--------------------------------\n",
      "No arbitrage opportunity, spread: 0.00001\n",
      "--------------------------------\n",
      "Trade Triggered: BUY/BUY/SELL\n",
      "Spread: 0.00000\n",
      "BUY BTC/USD:0.052 @ 19,159\n",
      "ERROR when buying DOGE/BTC (2nd Trade)\n",
      "--------------------------------\n",
      "No arbitrage opportunity, spread: 0.00000\n",
      "--------------------------------\n",
      "No arbitrage opportunity, spread: 0.00001\n",
      "--------------------------------\n",
      "Trade Triggered: BUY/SELL/SELL\n",
      "Spread: 0.00003\n",
      "Buy LINK/USD:143.83 @ 6.95\n",
      "Sell LINK/BTC:143.47 @ 0.000363\n",
      "Sell BTC/USD:0.05 @ 19,159\n",
      "--------------------------------\n",
      "Trade Triggered: BUY/SELL/SELL\n",
      "Spread: 0.00040\n",
      "Buy LTC/USD:19.42 @ 51.48\n",
      "Sell LTC/BTC:19.37 @ 0.002691\n",
      "Sell BTC/USD:0.05 @ 19,159\n",
      "--------------------------------\n",
      "Trade Triggered: BUY/BUY/SELL\n",
      "Spread: 0.00001\n",
      "BUY BTC/USD:0.052 @ 19,159\n",
      "ERROR when buying MATIC/BTC (2nd Trade)\n",
      "--------------------------------\n",
      "No arbitrage opportunity, spread: 0.00000\n",
      "--------------------------------\n",
      "Trade Triggered: BUY/BUY/SELL\n",
      "Spread: 0.00006\n",
      "BUY BTC/USD:0.052 @ 19,159\n",
      "Buy SOL/BTC:3.2e+01 @ 0.001568\n",
      "Sell SOL/USD:3.2e+01 @ 3e+01\n",
      "--------------------------------\n",
      "No arbitrage opportunity, spread: 0.00000\n",
      "--------------------------------\n",
      "Trade Triggered: BUY/SELL/SELL\n",
      "Spread: 0.00003\n",
      "Buy SUSHI/USD:673.95 @ 1.48\n",
      "Sell SUSHI/BTC:672.26 @ 0.000078\n",
      "Sell BTC/USD:0.05 @ 19,159\n",
      "--------------------------------\n",
      "Trade Triggered: BUY/SELL/SELL\n",
      "Spread: 0.00002\n",
      "Buy UNI/USD:164.26 @ 6.09\n",
      "Sell UNI/BTC:163.85 @ 0.000318\n",
      "Sell BTC/USD:0.05 @ 19,159\n",
      "--------------------------------\n",
      "Trade Triggered: BUY/BUY/SELL\n",
      "Spread: 0.02133\n",
      "BUY BTC/USD:0.052 @ 19,159\n",
      "Buy YFI/BTC:0.12 @ 0.397250\n",
      "Sell YFI/USD:0.12 @ 7.6e+03\n",
      "--------------------------------\n",
      "No arbitrage opportunity, spread: 0.00021\n",
      "--------------------------------\n",
      "Position change: -80.470000\n"
     ]
    }
   ],
   "source": [
    "def round_down_decimal(number, decimal):\n",
    "    return math.floor(number * pow(10, decimal))/pow(10, decimal)\n",
    "\n",
    "def get_account_balance():\n",
    "    \"\"\" place order to Alpaca \"\"\"\n",
    "    try:\n",
    "        balance = requests.get(\n",
    "            '{0}/v2/account'.format(ALPACA_BASE_URL), headers=HEADERS)\n",
    "        return round(float(balance.json()['portfolio_value']),2)\n",
    "    except Exception as e:\n",
    "        print(f\"ERROR when getting account balance: {e}\")\n",
    "        return False\n",
    "\n",
    "def get_quote(symbol):\n",
    "    \"\"\" get latest price of symbol \"\"\"\n",
    "    try:\n",
    "        quote = requests.get('{0}/v1beta2/crypto/latest/trades?symbols={1}'\n",
    "                             .format(DATA_URL, symbol), headers=HEADERS)\n",
    "        return quote.json()['trades']\n",
    "    except Exception as e:\n",
    "        print(f\"ERROR when fetching symbol price: {e}\")\n",
    "        return False\n",
    "\n",
    "def liquidate_positions():\n",
    "    \"\"\" liquidate all positions \"\"\"\n",
    "    try:\n",
    "        return requests.delete(\n",
    "            '{0}/v2/positions'.format(ALPACA_BASE_URL), headers=HEADERS)\n",
    "    except Exception as e:\n",
    "        print(f\"ERROR when liquidating positions from Alpaca: {e}\")\n",
    "        return False\n",
    "\n",
    "def get_position(symbol):\n",
    "    \"\"\" get position of symbol\n",
    "    :param symbol: in form of 'BTCUSD'\n",
    "    :return: position value\n",
    "    \"\"\"\n",
    "    try:\n",
    "        position = requests.get(\n",
    "            '{0}/v2/positions/{1}'.format(ALPACA_BASE_URL, symbol), headers=HEADERS)\n",
    "        position = float(position.json()['qty'])\n",
    "        # qty = round_down_decimal(position,2)\n",
    "        return position\n",
    "    except Exception as e:\n",
    "        print(f\"ERROR when getting position from Alpaca: {e}\")\n",
    "        return False\n",
    "\n",
    "def place_order(symbol, qty, side):\n",
    "    \"\"\" place order to Alpaca \"\"\"\n",
    "    try:\n",
    "        order = requests.post(\n",
    "            '{0}/v2/orders'.format(ALPACA_BASE_URL), headers=HEADERS, json={\n",
    "                'symbol': symbol,\n",
    "                'qty': qty,\n",
    "                'side': side,\n",
    "                'type': 'market',\n",
    "                'time_in_force': 'gtc',\n",
    "            })\n",
    "        return order\n",
    "    except Exception as e:\n",
    "        print(f\"ERROR when placing order to Alpaca: {e}\")\n",
    "        return False\n",
    "\n",
    "def check_arbitrage_opp(coin, prices_tuple, btc_usd):\n",
    "    \"\"\"\n",
    "    :param prices_tuple: (COIN-BTC px, COIN-USD px)\n",
    "    :param btc_usd: latest price of BTC/USD\n",
    "    :return:\n",
    "    \"\"\"\n",
    "    global investment\n",
    "    global min_profit_pct\n",
    "    coin_btc, coin_usd = prices_tuple\n",
    "    threshold = coin_usd / btc_usd\n",
    "    spread = abs(threshold - coin_btc)\n",
    "\n",
    "    # BTC/USD is cheaper: buy BTC, convert to COIN, sell COIN\n",
    "    if threshold > coin_btc * (1 + min_profit_pct / 100):\n",
    "        print(\"Trade Triggered: BUY/BUY/SELL\")\n",
    "        print(f\"Spread: {spread * 100:.5f}\")\n",
    "        buy_btc_qty = investment / btc_usd\n",
    "        order_1 = place_order(\"BTC/USD\", buy_btc_qty, \"buy\")\n",
    "        if order_1.status_code==200:\n",
    "            print(f\"BUY BTC/USD:{buy_btc_qty:,.2} @ {btc_usd:,}\")\n",
    "            # TODO: for loop for highest available divider (0.95 down to 0.85)\n",
    "            latest_coin_btc = get_quote(f\"{coin}/BTC\")[f\"{coin}/BTC\"]['p']\n",
    "            sell_qty = get_position(\"BTCUSD\") / (latest_coin_btc/0.95)  #(coin_btc/0.95)\n",
    "            sell_qty = round_down_decimal(sell_qty, 2)\n",
    "            order_2 = place_order(f\"{coin}/BTC\", sell_qty, \"buy\")\n",
    "            if order_2.status_code==200:\n",
    "                print(f\"Buy {coin}/BTC:{sell_qty:,.2} @ {coin_btc:,.6f}\")\n",
    "                sell_qty_3 = get_position(\"BTCUSD\")\n",
    "                order_3 = place_order(f\"{coin}/USD\", sell_qty_3, \"sell\")\n",
    "                if order_3.status_code==200:\n",
    "                    print(f\"Sell {coin}/USD:{sell_qty:,.2} @ {float(coin_usd):,.2}\")\n",
    "                    print(\"--------------------------------\")\n",
    "                else:\n",
    "                    place_order(f\"{coin}/BTC\", sell_qty, \"sell\")\n",
    "                    print(f\"ERROR when selling {coin}/USD (3rd Trade)\")\n",
    "                    print(\"--------------------------------\")\n",
    "            else:\n",
    "                print(f\"ERROR when buying {coin}/BTC (2nd Trade)\")\n",
    "                print(\"--------------------------------\")\n",
    "        else:\n",
    "            print(\"ERROR when buying BTC/USD (1st Trade)\")\n",
    "            print(\"--------------------------------\")\n",
    "        liquidate_positions()\n",
    "    # COIN/USD is cheaper: buy COIN, convert to BTC, sell BTC\n",
    "    if threshold < coin_btc * (1 - min_profit_pct / 100):\n",
    "        print(\"Trade Triggered: BUY/SELL/SELL\")\n",
    "        print(f\"Spread: {spread * 100:.5f}\")\n",
    "        buy_coin_qty = investment / coin_usd\n",
    "        order_1 = place_order(f\"{coin}/USD\", buy_coin_qty, \"buy\")\n",
    "        if order_1.status_code==200:\n",
    "            print(f\"Buy {coin}/USD:{buy_coin_qty:,.2f} @ {float(coin_usd):,.2f}\")\n",
    "            sell_qty_2 = get_position(f\"{coin}USD\")\n",
    "            order_2 = place_order(f\"{coin}/BTC\", sell_qty_2, \"sell\")\n",
    "            if order_2.status_code==200:\n",
    "                print(f\"Sell {coin}/BTC:{sell_qty_2:,.2f} @ {coin_btc:,.6f}\")\n",
    "                sell_qty_3 = get_position(\"BTCUSD\")\n",
    "                order_3 = place_order(f\"BTC/USD\", sell_qty_3, \"sell\")\n",
    "                if order_3.status_code == 200:\n",
    "                    print(f\"Sell BTC/USD:{sell_qty_3:,.2f} @ {btc_usd:,}\")\n",
    "                    print(\"--------------------------------\")\n",
    "                else:\n",
    "                    # _place_order(f\"{coin}/BTC\", sell_qty, \"buy\")\n",
    "                    print(\"ERROR when selling BTC/USD (3rd Trade)\")\n",
    "                    print(\"--------------------------------\")\n",
    "            else:\n",
    "                print(f\"ERROR when selling {coin}/BTC (2nd Trade)\")\n",
    "                print(\"--------------------------------\")\n",
    "        else:\n",
    "            print(F\"ERROR when buying {coin}/USD (1st Trade)\")\n",
    "            print(\"--------------------------------\")\n",
    "        liquidate_positions()\n",
    "    else:\n",
    "        print(f\"No arbitrage opportunity, spread: {spread:.5f}\")\n",
    "        print(\"--------------------------------\")\n",
    "\n",
    "def main():\n",
    "    initial_balance = get_account_balance()\n",
    "    prices_dict = get_latest_quote(coins)\n",
    "    btc_usd = prices_dict['BTC/USD']\n",
    "    for coin, prices_tuple in list(prices_dict.items())[:-1]:\n",
    "        check_arbitrage_opp(coin, prices_tuple, btc_usd)\n",
    "    ending_balance = get_account_balance()\n",
    "    print(f\"Position change: {ending_balance - initial_balance:2f}\")\n",
    "\n",
    "if __name__ == \"__main__\":\n",
    "    main()"
   ],
   "metadata": {
    "collapsed": false,
    "pycharm": {
     "name": "#%%\n"
    }
   }
  },
  {
   "cell_type": "code",
   "execution_count": 224,
   "outputs": [
    {
     "data": {
      "text/plain": "[{'asset_id': '64bbff51-59d6-4b3c-9351-13ad85e3c752',\n  'symbol': 'BTCUSD',\n  'exchange': 'FTXU',\n  'asset_class': 'crypto',\n  'asset_marginable': False,\n  'qty': '2.6040224543319414',\n  'avg_entry_price': '19105.177993531502529',\n  'side': 'long',\n  'market_value': '49807.1374840070431578',\n  'cost_basis': '49750.312489164498872323035807971296397',\n  'unrealized_pl': '56.824994842544285476964192028703603',\n  'unrealized_plpc': '0.0011422037772109',\n  'unrealized_intraday_pl': '56.8249948425442855041759404201994',\n  'unrealized_intraday_plpc': '0.0011422037772109',\n  'current_price': '19127',\n  'lastday_price': '19171',\n  'change_today': '-0.0022951332742163',\n  'qty_available': '2.6040224543319414'}]"
     },
     "execution_count": 224,
     "metadata": {},
     "output_type": "execute_result"
    }
   ],
   "source": [
    "from alpaca_utils import *\n",
    "get_all_positions()"
   ],
   "metadata": {
    "collapsed": false,
    "pycharm": {
     "name": "#%%\n"
    }
   }
  },
  {
   "cell_type": "code",
   "execution_count": null,
   "outputs": [],
   "source": [],
   "metadata": {
    "collapsed": false,
    "pycharm": {
     "name": "#%%\n"
    }
   }
  }
 ],
 "metadata": {
  "kernelspec": {
   "display_name": "Python 3",
   "language": "python",
   "name": "python3"
  },
  "language_info": {
   "codemirror_mode": {
    "name": "ipython",
    "version": 2
   },
   "file_extension": ".py",
   "mimetype": "text/x-python",
   "name": "python",
   "nbconvert_exporter": "python",
   "pygments_lexer": "ipython2",
   "version": "2.7.6"
  }
 },
 "nbformat": 4,
 "nbformat_minor": 0
}