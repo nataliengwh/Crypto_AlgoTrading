{
 "cells": [
  {
   "cell_type": "code",
   "execution_count": 103,
   "metadata": {},
   "outputs": [
    {
     "name": "stdout",
     "output_type": "stream",
     "text": [
      "                datetime   open   high    low  close   volume\n",
      "0   2022-10-02T05:00:00Z  19331  19331  19323  19324   0.1347\n",
      "1   2022-10-02T05:05:00Z  19326  19326  19325  19325   0.0020\n",
      "2   2022-10-02T05:10:00Z  19325  19330  19325  19330   0.1058\n",
      "3   2022-10-02T05:15:00Z  19329  19333  19329  19333   0.7494\n",
      "4   2022-10-02T05:20:00Z  19337  19350  19337  19350   2.6558\n",
      "5   2022-10-02T05:25:00Z  19350  19355  19350  19355   5.8207\n",
      "6   2022-10-02T05:30:00Z  19355  19392  19355  19374  14.0346\n",
      "7   2022-10-02T05:35:00Z  19374  19395  19350  19361  12.1668\n",
      "8   2022-10-02T05:40:00Z  19371  19371  19336  19337   2.3360\n",
      "9   2022-10-02T05:45:00Z  19342  19360  19335  19360   0.5129\n",
      "10  2022-10-02T05:50:00Z  19336  19336  19306  19320   0.9156\n",
      "11  2022-10-02T05:55:00Z  19324  19333  19324  19333   0.6307\n",
      "12  2022-10-02T06:00:00Z  19334  19347  19329  19347   6.5835\n",
      "13  2022-10-02T06:05:00Z  19343  19344  19338  19344   0.1074\n",
      "14  2022-10-02T06:10:00Z  19349  19369  19349  19353   0.6420\n",
      "15  2022-10-02T06:15:00Z  19348  19348  19329  19333   0.1192\n",
      "16  2022-10-02T06:20:00Z  19345  19369  19345  19369   0.0989\n",
      "17  2022-10-02T06:25:00Z  19360  19377  19354  19377   0.0026\n",
      "18  2022-10-02T06:30:00Z  19354  19354  19328  19328   0.1726\n",
      "19  2022-10-02T06:35:00Z  19329  19356  19329  19335   0.0237\n",
      "20  2022-10-02T06:40:00Z  19329  19333  19317  19322   0.0358\n",
      "21  2022-10-02T06:45:00Z  19317  19325  19316  19319   0.0199\n",
      "22  2022-10-02T06:50:00Z  19328  19331  19308  19308   0.1450\n",
      "23  2022-10-02T06:55:00Z  19308  19308  19271  19271   8.9933\n",
      "24  2022-10-02T07:00:00Z  19269  19269  19258  19258   0.3321\n",
      "25  2022-10-02T07:05:00Z  19274  19297  19274  19297   0.1154\n",
      "26  2022-10-02T07:10:00Z  19288  19288  19233  19235   7.9677\n",
      "                datetime    open    high     low   close   volume\n",
      "0   2022-10-02T05:00:00Z  1313.0  1313.0  1311.8  1311.8   37.173\n",
      "1   2022-10-02T05:05:00Z  1311.8  1312.0  1311.6  1312.0    6.528\n",
      "2   2022-10-02T05:10:00Z  1312.0  1313.4  1311.5  1313.4   34.279\n",
      "3   2022-10-02T05:15:00Z  1313.4  1313.8  1312.6  1313.7   13.064\n",
      "4   2022-10-02T05:20:00Z  1313.7  1314.4  1313.4  1314.4   14.536\n",
      "5   2022-10-02T05:25:00Z  1314.4  1315.1  1313.2  1315.1   24.913\n",
      "6   2022-10-02T05:30:00Z  1315.1  1316.8  1314.9  1316.0  183.089\n",
      "7   2022-10-02T05:35:00Z  1316.0  1316.7  1314.7  1315.3  617.921\n",
      "8   2022-10-02T05:40:00Z  1315.3  1315.6  1313.0  1313.6   73.461\n",
      "9   2022-10-02T05:45:00Z  1313.6  1315.5  1313.6  1315.5   20.579\n",
      "10  2022-10-02T05:50:00Z  1315.4  1315.4  1311.1  1311.7   23.267\n",
      "11  2022-10-02T05:55:00Z  1311.7  1313.3  1311.7  1313.0   24.820\n",
      "12  2022-10-02T06:00:00Z  1313.0  1314.7  1313.0  1314.6   14.193\n"
     ]
    }
   ],
   "source": [
    "import config, requests, json, pandas as pd\n",
    "\n",
    "\n",
    "#minute_bar_url = config.BARS_URL + '/5Min?symbols=BTC/USD&limit=1000'\n",
    "# minute_bar_url = config.BARS_URL + '?timeframe=5Min&symbols=BTC/USD,ETH/USD&limit=20'\n",
    "minute_bar_url_BTC = config.BARS_URL + '?timeframe=5T&symbols=BTC/USD,ETH/USD&limit=40'\n",
    "#minute_bar_url_ETH = config.BARS_URL + '?timeframe=5T&symbols=ETH/USD&limit=20'\n",
    "\n",
    "r1 = requests.get(minute_bar_url_BTC, headers=config.HEADERS)\n",
    "#r2 = requests.get(minute_bar_url_ETH, headers=config.HEADERS)\n",
    "\n",
    "data0 = pd.DataFrame(r1.json()['bars']['BTC/USD'])[['t','o','h','l','c','v']].rename(columns={'t':'datetime', 'o':'open', 'h':'high', 'l':'low', 'c':'close', 'v':'volume'})\n",
    "data1 = pd.DataFrame(r1.json()['bars']['ETH/USD'])[['t','o','h','l','c','v']].rename(columns={'t':'datetime', 'o':'open', 'h':'high', 'l':'low', 'c':'close', 'v':'volume'})\n",
    "print(data0)\n",
    "print(data1)"
   ]
  },
  {
   "cell_type": "code",
   "execution_count": null,
   "metadata": {},
   "outputs": [],
   "source": []
  }
 ],
 "metadata": {
  "kernelspec": {
   "display_name": "Python 3.9.13 64-bit",
   "language": "python",
   "name": "python3"
  },
  "language_info": {
   "codemirror_mode": {
    "name": "ipython",
    "version": 3
   },
   "file_extension": ".py",
   "mimetype": "text/x-python",
   "name": "python",
   "nbconvert_exporter": "python",
   "pygments_lexer": "ipython3",
   "version": "3.9.13"
  },
  "orig_nbformat": 4,
  "vscode": {
   "interpreter": {
    "hash": "d8fe9279b24eb5c6c279942e41b8b8e849b3e5cb2998e15bc84e8c8ade1c1671"
   }
  }
 },
 "nbformat": 4,
 "nbformat_minor": 2
}
